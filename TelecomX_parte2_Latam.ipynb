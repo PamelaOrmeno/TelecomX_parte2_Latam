{
  "nbformat": 4,
  "nbformat_minor": 0,
  "metadata": {
    "colab": {
      "provenance": []
    },
    "kernelspec": {
      "name": "python3",
      "display_name": "Python 3"
    },
    "language_info": {
      "name": "python"
    }
  },
  "cells": [
    {
      "cell_type": "markdown",
      "source": [
        "***\n",
        "#<font color=\"#274C77\" size=10>Challenge TelecomX - PARTE 2</font>\n",
        "***"
      ],
      "metadata": {
        "id": "t9tWr-8MqYVb"
      }
    },
    {
      "cell_type": "markdown",
      "source": [
        "## 🧠 Predicción de Cancelación de Clientes (Churn)\n",
        "\n",
        "Este notebook forma parte del desafío **TelecomX Parte 2**, cuyo objetivo es construir un modelo de Machine Learning para predecir la cancelación de clientes de una empresa ficticia de telecomunicaciones.\n",
        "\n",
        "**Enlace al Trello del proyecto**: [TelecomX_parte2_Latam](https://trello.com/b/J85wDAhj/telecomxparte2latam)  \n",
        "**Repositorio GitHub**: [github.com/PamelaOrmeno/TelecomX_parte2_Latam](https://github.com/PamelaOrmeno/TelecomX_parte2_Latam)\n",
        "\n",
        "---\n"
      ],
      "metadata": {
        "id": "LBkFXGEdsHhJ"
      }
    },
    {
      "cell_type": "markdown",
      "source": [
        "## 📦 Importación de Librerías\n",
        "\n",
        "Comenzamos cargando todas las librerías necesarias para manipulación de datos, visualización, preprocesamiento y modelado. Se incluye manejo de errores para asegurar que el entorno tenga todos los paquetes disponibles."
      ],
      "metadata": {
        "id": "Skvlrv-P3wLD"
      }
    },
    {
      "cell_type": "code",
      "source": [
        "# Librerías principales\n",
        "try:\n",
        "    import pandas as pd\n",
        "    from pandas import json_normalize\n",
        "    import numpy as np\n",
        "    import matplotlib.pyplot as plt\n",
        "    import seaborn as sns\n",
        "    import plotly.express as px\n",
        "    print(\"✅ Librerías de análisis y visualización cargadas correctamente.\")\n",
        "except ImportError as e:\n",
        "    print(f\"❌ Error al importar librerías principales: {e}\")\n",
        "\n",
        "# Librerías para machine learning\n",
        "try:\n",
        "    from sklearn.model_selection import train_test_split\n",
        "    from sklearn.preprocessing import LabelEncoder, StandardScaler\n",
        "    from sklearn.linear_model import LogisticRegression\n",
        "    from sklearn.ensemble import RandomForestClassifier\n",
        "    from sklearn.metrics import classification_report, confusion_matrix\n",
        "    print(\"✅ Librerías de machine learning cargadas correctamente.\")\n",
        "except ImportError as e:\n",
        "    print(f\"❌ Error al importar librerías de machine learning: {e}\")\n",
        "\n",
        "# Configuraciones generales\n",
        "try:\n",
        "    import warnings\n",
        "    warnings.filterwarnings('ignore')\n",
        "    pd.set_option('display.max_columns', None)\n",
        "    print(\"✅ Configuraciones aplicadas.\")\n",
        "except Exception as e:\n",
        "    print(f\"❌ Error en configuración inicial: {e}\")\n"
      ],
      "metadata": {
        "colab": {
          "base_uri": "https://localhost:8080/"
        },
        "id": "jYoyWBuP4RE8",
        "outputId": "c64903c3-4520-404f-aca3-58d37d741fe5"
      },
      "execution_count": null,
      "outputs": [
        {
          "output_type": "stream",
          "name": "stdout",
          "text": [
            "✅ Librerías de análisis y visualización cargadas correctamente.\n",
            "✅ Librerías de machine learning cargadas correctamente.\n",
            "✅ Configuraciones aplicadas.\n"
          ]
        }
      ]
    },
    {
      "cell_type": "markdown",
      "source": [
        "## 🧱 Carga y Exploración Inicial\n",
        "\n",
        "En esta etapa cargamos el dataset directamente desde un repositorio público de GitHub. Posteriormente, realizamos una exploración preliminar para entender su estructura general y detectar posibles problemas a resolver.\n"
      ],
      "metadata": {
        "id": "t4bSrtHj8h1D"
      }
    },
    {
      "cell_type": "markdown",
      "source": [
        "### 📦 Código Python: Carga desde GitHub"
      ],
      "metadata": {
        "id": "lvP2t1sL971g"
      }
    },
    {
      "cell_type": "code",
      "source": [
        "# Cargar dataset desde GitHub (formato JSON plano)\n",
        "try:\n",
        "    import pandas as pd\n",
        "\n",
        "    url_data = 'https://raw.githubusercontent.com/PamelaOrmeno/TelecomX_parte2_Latam/refs/heads/main/Data/TelecomX_Data.json'\n",
        "    df = pd.read_json(url_data)\n",
        "    print(f\"✅ Datos cargados desde GitHub. Registros encontrados: {len(df)}\")\n",
        "\n",
        "except Exception as e:\n",
        "    print(f\"❌ Error al cargar datos desde GitHub: {e}\")\n"
      ],
      "metadata": {
        "colab": {
          "base_uri": "https://localhost:8080/"
        },
        "id": "th1ZeGuj8rCw",
        "outputId": "670c637f-5459-465f-db32-f1d1cb033784"
      },
      "execution_count": null,
      "outputs": [
        {
          "output_type": "stream",
          "name": "stdout",
          "text": [
            "✅ Datos cargados desde GitHub. Registros encontrados: 7267\n"
          ]
        }
      ]
    },
    {
      "cell_type": "markdown",
      "source": [
        "### 🔍 Código Python: Exploración Preliminar"
      ],
      "metadata": {
        "id": "BUugYDmF-Mhf"
      }
    },
    {
      "cell_type": "code",
      "source": [
        "# Exploración general de dimensiones, columnas y tipos de datos\n",
        "try:\n",
        "    print(\"📐 Dimensiones del dataset:\", df.shape)\n",
        "\n",
        "    print(\"\\n🧩 Primeras columnas:\")\n",
        "    display(df.columns.to_frame(index=False).head())\n",
        "\n",
        "    print(\"\\n🧾 Tipos de datos:\")\n",
        "    display(df.dtypes)\n",
        "\n",
        "except Exception as e:\n",
        "    print(f\"❌ Error durante la exploración inicial: {e}\")\n"
      ],
      "metadata": {
        "colab": {
          "base_uri": "https://localhost:8080/",
          "height": 551
        },
        "id": "ZaRJbPFd-Nxx",
        "outputId": "c0a17ef1-00c6-4eb4-e253-74ad24bcf3bd"
      },
      "execution_count": null,
      "outputs": [
        {
          "output_type": "stream",
          "name": "stdout",
          "text": [
            "📐 Dimensiones del dataset: (7267, 6)\n",
            "\n",
            "🧩 Primeras columnas:\n"
          ]
        },
        {
          "output_type": "display_data",
          "data": {
            "text/plain": [
              "            0\n",
              "0  customerID\n",
              "1       Churn\n",
              "2    customer\n",
              "3       phone\n",
              "4    internet"
            ],
            "text/html": [
              "\n",
              "  <div id=\"df-507b59d0-0881-40ef-bf37-64fe6cf2b04e\" class=\"colab-df-container\">\n",
              "    <div>\n",
              "<style scoped>\n",
              "    .dataframe tbody tr th:only-of-type {\n",
              "        vertical-align: middle;\n",
              "    }\n",
              "\n",
              "    .dataframe tbody tr th {\n",
              "        vertical-align: top;\n",
              "    }\n",
              "\n",
              "    .dataframe thead th {\n",
              "        text-align: right;\n",
              "    }\n",
              "</style>\n",
              "<table border=\"1\" class=\"dataframe\">\n",
              "  <thead>\n",
              "    <tr style=\"text-align: right;\">\n",
              "      <th></th>\n",
              "      <th>0</th>\n",
              "    </tr>\n",
              "  </thead>\n",
              "  <tbody>\n",
              "    <tr>\n",
              "      <th>0</th>\n",
              "      <td>customerID</td>\n",
              "    </tr>\n",
              "    <tr>\n",
              "      <th>1</th>\n",
              "      <td>Churn</td>\n",
              "    </tr>\n",
              "    <tr>\n",
              "      <th>2</th>\n",
              "      <td>customer</td>\n",
              "    </tr>\n",
              "    <tr>\n",
              "      <th>3</th>\n",
              "      <td>phone</td>\n",
              "    </tr>\n",
              "    <tr>\n",
              "      <th>4</th>\n",
              "      <td>internet</td>\n",
              "    </tr>\n",
              "  </tbody>\n",
              "</table>\n",
              "</div>\n",
              "    <div class=\"colab-df-buttons\">\n",
              "\n",
              "  <div class=\"colab-df-container\">\n",
              "    <button class=\"colab-df-convert\" onclick=\"convertToInteractive('df-507b59d0-0881-40ef-bf37-64fe6cf2b04e')\"\n",
              "            title=\"Convert this dataframe to an interactive table.\"\n",
              "            style=\"display:none;\">\n",
              "\n",
              "  <svg xmlns=\"http://www.w3.org/2000/svg\" height=\"24px\" viewBox=\"0 -960 960 960\">\n",
              "    <path d=\"M120-120v-720h720v720H120Zm60-500h600v-160H180v160Zm220 220h160v-160H400v160Zm0 220h160v-160H400v160ZM180-400h160v-160H180v160Zm440 0h160v-160H620v160ZM180-180h160v-160H180v160Zm440 0h160v-160H620v160Z\"/>\n",
              "  </svg>\n",
              "    </button>\n",
              "\n",
              "  <style>\n",
              "    .colab-df-container {\n",
              "      display:flex;\n",
              "      gap: 12px;\n",
              "    }\n",
              "\n",
              "    .colab-df-convert {\n",
              "      background-color: #E8F0FE;\n",
              "      border: none;\n",
              "      border-radius: 50%;\n",
              "      cursor: pointer;\n",
              "      display: none;\n",
              "      fill: #1967D2;\n",
              "      height: 32px;\n",
              "      padding: 0 0 0 0;\n",
              "      width: 32px;\n",
              "    }\n",
              "\n",
              "    .colab-df-convert:hover {\n",
              "      background-color: #E2EBFA;\n",
              "      box-shadow: 0px 1px 2px rgba(60, 64, 67, 0.3), 0px 1px 3px 1px rgba(60, 64, 67, 0.15);\n",
              "      fill: #174EA6;\n",
              "    }\n",
              "\n",
              "    .colab-df-buttons div {\n",
              "      margin-bottom: 4px;\n",
              "    }\n",
              "\n",
              "    [theme=dark] .colab-df-convert {\n",
              "      background-color: #3B4455;\n",
              "      fill: #D2E3FC;\n",
              "    }\n",
              "\n",
              "    [theme=dark] .colab-df-convert:hover {\n",
              "      background-color: #434B5C;\n",
              "      box-shadow: 0px 1px 3px 1px rgba(0, 0, 0, 0.15);\n",
              "      filter: drop-shadow(0px 1px 2px rgba(0, 0, 0, 0.3));\n",
              "      fill: #FFFFFF;\n",
              "    }\n",
              "  </style>\n",
              "\n",
              "    <script>\n",
              "      const buttonEl =\n",
              "        document.querySelector('#df-507b59d0-0881-40ef-bf37-64fe6cf2b04e button.colab-df-convert');\n",
              "      buttonEl.style.display =\n",
              "        google.colab.kernel.accessAllowed ? 'block' : 'none';\n",
              "\n",
              "      async function convertToInteractive(key) {\n",
              "        const element = document.querySelector('#df-507b59d0-0881-40ef-bf37-64fe6cf2b04e');\n",
              "        const dataTable =\n",
              "          await google.colab.kernel.invokeFunction('convertToInteractive',\n",
              "                                                    [key], {});\n",
              "        if (!dataTable) return;\n",
              "\n",
              "        const docLinkHtml = 'Like what you see? Visit the ' +\n",
              "          '<a target=\"_blank\" href=https://colab.research.google.com/notebooks/data_table.ipynb>data table notebook</a>'\n",
              "          + ' to learn more about interactive tables.';\n",
              "        element.innerHTML = '';\n",
              "        dataTable['output_type'] = 'display_data';\n",
              "        await google.colab.output.renderOutput(dataTable, element);\n",
              "        const docLink = document.createElement('div');\n",
              "        docLink.innerHTML = docLinkHtml;\n",
              "        element.appendChild(docLink);\n",
              "      }\n",
              "    </script>\n",
              "  </div>\n",
              "\n",
              "\n",
              "    <div id=\"df-bc9459a5-f42b-43bf-9a9f-9caedfac1fae\">\n",
              "      <button class=\"colab-df-quickchart\" onclick=\"quickchart('df-bc9459a5-f42b-43bf-9a9f-9caedfac1fae')\"\n",
              "                title=\"Suggest charts\"\n",
              "                style=\"display:none;\">\n",
              "\n",
              "<svg xmlns=\"http://www.w3.org/2000/svg\" height=\"24px\"viewBox=\"0 0 24 24\"\n",
              "     width=\"24px\">\n",
              "    <g>\n",
              "        <path d=\"M19 3H5c-1.1 0-2 .9-2 2v14c0 1.1.9 2 2 2h14c1.1 0 2-.9 2-2V5c0-1.1-.9-2-2-2zM9 17H7v-7h2v7zm4 0h-2V7h2v10zm4 0h-2v-4h2v4z\"/>\n",
              "    </g>\n",
              "</svg>\n",
              "      </button>\n",
              "\n",
              "<style>\n",
              "  .colab-df-quickchart {\n",
              "      --bg-color: #E8F0FE;\n",
              "      --fill-color: #1967D2;\n",
              "      --hover-bg-color: #E2EBFA;\n",
              "      --hover-fill-color: #174EA6;\n",
              "      --disabled-fill-color: #AAA;\n",
              "      --disabled-bg-color: #DDD;\n",
              "  }\n",
              "\n",
              "  [theme=dark] .colab-df-quickchart {\n",
              "      --bg-color: #3B4455;\n",
              "      --fill-color: #D2E3FC;\n",
              "      --hover-bg-color: #434B5C;\n",
              "      --hover-fill-color: #FFFFFF;\n",
              "      --disabled-bg-color: #3B4455;\n",
              "      --disabled-fill-color: #666;\n",
              "  }\n",
              "\n",
              "  .colab-df-quickchart {\n",
              "    background-color: var(--bg-color);\n",
              "    border: none;\n",
              "    border-radius: 50%;\n",
              "    cursor: pointer;\n",
              "    display: none;\n",
              "    fill: var(--fill-color);\n",
              "    height: 32px;\n",
              "    padding: 0;\n",
              "    width: 32px;\n",
              "  }\n",
              "\n",
              "  .colab-df-quickchart:hover {\n",
              "    background-color: var(--hover-bg-color);\n",
              "    box-shadow: 0 1px 2px rgba(60, 64, 67, 0.3), 0 1px 3px 1px rgba(60, 64, 67, 0.15);\n",
              "    fill: var(--button-hover-fill-color);\n",
              "  }\n",
              "\n",
              "  .colab-df-quickchart-complete:disabled,\n",
              "  .colab-df-quickchart-complete:disabled:hover {\n",
              "    background-color: var(--disabled-bg-color);\n",
              "    fill: var(--disabled-fill-color);\n",
              "    box-shadow: none;\n",
              "  }\n",
              "\n",
              "  .colab-df-spinner {\n",
              "    border: 2px solid var(--fill-color);\n",
              "    border-color: transparent;\n",
              "    border-bottom-color: var(--fill-color);\n",
              "    animation:\n",
              "      spin 1s steps(1) infinite;\n",
              "  }\n",
              "\n",
              "  @keyframes spin {\n",
              "    0% {\n",
              "      border-color: transparent;\n",
              "      border-bottom-color: var(--fill-color);\n",
              "      border-left-color: var(--fill-color);\n",
              "    }\n",
              "    20% {\n",
              "      border-color: transparent;\n",
              "      border-left-color: var(--fill-color);\n",
              "      border-top-color: var(--fill-color);\n",
              "    }\n",
              "    30% {\n",
              "      border-color: transparent;\n",
              "      border-left-color: var(--fill-color);\n",
              "      border-top-color: var(--fill-color);\n",
              "      border-right-color: var(--fill-color);\n",
              "    }\n",
              "    40% {\n",
              "      border-color: transparent;\n",
              "      border-right-color: var(--fill-color);\n",
              "      border-top-color: var(--fill-color);\n",
              "    }\n",
              "    60% {\n",
              "      border-color: transparent;\n",
              "      border-right-color: var(--fill-color);\n",
              "    }\n",
              "    80% {\n",
              "      border-color: transparent;\n",
              "      border-right-color: var(--fill-color);\n",
              "      border-bottom-color: var(--fill-color);\n",
              "    }\n",
              "    90% {\n",
              "      border-color: transparent;\n",
              "      border-bottom-color: var(--fill-color);\n",
              "    }\n",
              "  }\n",
              "</style>\n",
              "\n",
              "      <script>\n",
              "        async function quickchart(key) {\n",
              "          const quickchartButtonEl =\n",
              "            document.querySelector('#' + key + ' button');\n",
              "          quickchartButtonEl.disabled = true;  // To prevent multiple clicks.\n",
              "          quickchartButtonEl.classList.add('colab-df-spinner');\n",
              "          try {\n",
              "            const charts = await google.colab.kernel.invokeFunction(\n",
              "                'suggestCharts', [key], {});\n",
              "          } catch (error) {\n",
              "            console.error('Error during call to suggestCharts:', error);\n",
              "          }\n",
              "          quickchartButtonEl.classList.remove('colab-df-spinner');\n",
              "          quickchartButtonEl.classList.add('colab-df-quickchart-complete');\n",
              "        }\n",
              "        (() => {\n",
              "          let quickchartButtonEl =\n",
              "            document.querySelector('#df-bc9459a5-f42b-43bf-9a9f-9caedfac1fae button');\n",
              "          quickchartButtonEl.style.display =\n",
              "            google.colab.kernel.accessAllowed ? 'block' : 'none';\n",
              "        })();\n",
              "      </script>\n",
              "    </div>\n",
              "\n",
              "    </div>\n",
              "  </div>\n"
            ],
            "application/vnd.google.colaboratory.intrinsic+json": {
              "type": "dataframe",
              "summary": "{\n  \"name\": \"    print(f\\\"\\u274c Error durante la exploraci\\u00f3n inicial: {e}\\\")\",\n  \"rows\": 5,\n  \"fields\": [\n    {\n      \"column\": 0,\n      \"properties\": {\n        \"dtype\": \"string\",\n        \"num_unique_values\": 5,\n        \"samples\": [\n          \"Churn\",\n          \"internet\",\n          \"customer\"\n        ],\n        \"semantic_type\": \"\",\n        \"description\": \"\"\n      }\n    }\n  ]\n}"
            }
          },
          "metadata": {}
        },
        {
          "output_type": "stream",
          "name": "stdout",
          "text": [
            "\n",
            "🧾 Tipos de datos:\n"
          ]
        },
        {
          "output_type": "display_data",
          "data": {
            "text/plain": [
              "customerID    object\n",
              "Churn         object\n",
              "customer      object\n",
              "phone         object\n",
              "internet      object\n",
              "account       object\n",
              "dtype: object"
            ],
            "text/html": [
              "<div>\n",
              "<style scoped>\n",
              "    .dataframe tbody tr th:only-of-type {\n",
              "        vertical-align: middle;\n",
              "    }\n",
              "\n",
              "    .dataframe tbody tr th {\n",
              "        vertical-align: top;\n",
              "    }\n",
              "\n",
              "    .dataframe thead th {\n",
              "        text-align: right;\n",
              "    }\n",
              "</style>\n",
              "<table border=\"1\" class=\"dataframe\">\n",
              "  <thead>\n",
              "    <tr style=\"text-align: right;\">\n",
              "      <th></th>\n",
              "      <th>0</th>\n",
              "    </tr>\n",
              "  </thead>\n",
              "  <tbody>\n",
              "    <tr>\n",
              "      <th>customerID</th>\n",
              "      <td>object</td>\n",
              "    </tr>\n",
              "    <tr>\n",
              "      <th>Churn</th>\n",
              "      <td>object</td>\n",
              "    </tr>\n",
              "    <tr>\n",
              "      <th>customer</th>\n",
              "      <td>object</td>\n",
              "    </tr>\n",
              "    <tr>\n",
              "      <th>phone</th>\n",
              "      <td>object</td>\n",
              "    </tr>\n",
              "    <tr>\n",
              "      <th>internet</th>\n",
              "      <td>object</td>\n",
              "    </tr>\n",
              "    <tr>\n",
              "      <th>account</th>\n",
              "      <td>object</td>\n",
              "    </tr>\n",
              "  </tbody>\n",
              "</table>\n",
              "</div><br><label><b>dtype:</b> object</label>"
            ]
          },
          "metadata": {}
        }
      ]
    },
    {
      "cell_type": "markdown",
      "source": [
        "## 🛠️ Preparación del Dataset para Modelado\n",
        "\n",
        "En esta sección se realiza el preprocesamiento del dataset. Esto incluye la conversión de variables categóricas a numéricas, el tratamiento de valores faltantes y la normalización de variables numéricas. Estas transformaciones son fundamentales para asegurar que los modelos funcionen correctamente.\n",
        "\n",
        "---\n"
      ],
      "metadata": {
        "id": "9eYA_IaX_DA7"
      }
    },
    {
      "cell_type": "markdown",
      "source": [
        "### 🔤 Codificación de variables categóricas\n",
        "\n",
        "Convertimos variables categóricas (como \"Yes\"/\"No\", \"Male\"/\"Female\") a variables numéricas. Se utiliza `LabelEncoder` para variables binarias y `get_dummies()` para aquellas con múltiples categorías.\n"
      ],
      "metadata": {
        "id": "VHulAzqr_W_d"
      }
    },
    {
      "cell_type": "code",
      "source": [
        "# Preparación estructural completa: desanidado, normalización y df_model listo\n",
        "try:\n",
        "  # Verificamos que el DataFrame df exista y tenga columnas anidadas\n",
        "    if 'customer' in df.columns:\n",
        "        # Desanidamos las columnas estructuradas\n",
        "        df_customer = json_normalize(df['customer'])\n",
        "        df_phone = json_normalize(df['phone'])\n",
        "        df_internet = json_normalize(df['internet'])\n",
        "        df_account = json_normalize(df['account'])\n",
        "\n",
        "        # Unimos todo en un nuevo DataFrame plano\n",
        "        df_flat = pd.concat([\n",
        "            df['customerID'], df['Churn'],\n",
        "            df_customer, df_phone, df_internet, df_account\n",
        "        ], axis=1)\n",
        "\n",
        "        #print(f\"✅ Dataset desanidado correctamente. Dimensiones: {df_flat.shape}\")\n",
        "    else:\n",
        "        raise ValueError(\"No se encontraron columnas anidadas ('customer', 'phone', etc.)\")\n",
        "\n",
        "    # Normalizamos nombres de columnas\n",
        "    df_flat.columns = (\n",
        "        df_flat.columns\n",
        "        .str.strip()\n",
        "        .str.lower()\n",
        "        .str.replace(' ', '_')\n",
        "        .str.replace('.', '_')\n",
        "    )\n",
        "    #print(\"✅ Nombres de columnas normalizados.\")\n",
        "\n",
        "    # Eliminamos columnas irrelevantes antes del modelado\n",
        "    df_model = df_flat.copy()\n",
        "    if 'customerid' in df_model.columns:\n",
        "        df_model.drop(columns=['customerid'], inplace=True)\n",
        "        #print(\"✅ Columna 'customerid' eliminada del dataset final.\")\n",
        "\n",
        "except Exception as e:\n",
        "    print(f\"❌ Error durante la preparación estructural: {e}\")\n"
      ],
      "metadata": {
        "id": "YSvht189_YrY"
      },
      "execution_count": null,
      "outputs": []
    },
    {
      "cell_type": "code",
      "source": [
        "df_model.to_excel('archivo_salida.xlsx', sheet_name='Hoja1', index=False)\n"
      ],
      "metadata": {
        "id": "m4YJlgZOM9Oy"
      },
      "execution_count": null,
      "outputs": []
    },
    {
      "cell_type": "markdown",
      "source": [
        "### ✅ Revisión final del dataset preprocesado\n",
        "\n",
        "Antes de dividir los datos para el entrenamiento, hacemos una revisión rápida del dataset resultante: número de variables, balance de clases y chequeo de consistencia general.\n"
      ],
      "metadata": {
        "id": "owWm9QkcJZOw"
      }
    },
    {
      "cell_type": "code",
      "source": [
        "# Verificación final antes de modelar\n",
        "try:\n",
        "    print(\"📐 Dimensiones del dataset preprocesado:\", df_model.shape)\n",
        "\n",
        "    print(\"\\n🔍 Tipos de datos:\")\n",
        "    display(df_model.dtypes.value_counts())\n",
        "\n",
        "    print(\"\\n📊 Balance de clases (variable objetivo):\")\n",
        "    if 'churn' in df_model.columns:\n",
        "        display(df_model['churn'].value_counts(normalize=True))\n",
        "    else:\n",
        "        print(\"⚠️ No se encontró la columna 'churn' como variable objetivo.\")\n",
        "\n",
        "except Exception as e:\n",
        "    print(f\"❌ Error al revisar dataset final: {e}\")\n"
      ],
      "metadata": {
        "colab": {
          "base_uri": "https://localhost:8080/",
          "height": 457
        },
        "id": "R_ZC--mKJck_",
        "outputId": "a61edd03-259b-4b43-bc2f-5d76dae5b828"
      },
      "execution_count": null,
      "outputs": [
        {
          "output_type": "stream",
          "name": "stdout",
          "text": [
            "📐 Dimensiones del dataset preprocesado: (7267, 20)\n",
            "\n",
            "🔍 Tipos de datos:\n"
          ]
        },
        {
          "output_type": "display_data",
          "data": {
            "text/plain": [
              "object     17\n",
              "int64       2\n",
              "float64     1\n",
              "Name: count, dtype: int64"
            ],
            "text/html": [
              "<div>\n",
              "<style scoped>\n",
              "    .dataframe tbody tr th:only-of-type {\n",
              "        vertical-align: middle;\n",
              "    }\n",
              "\n",
              "    .dataframe tbody tr th {\n",
              "        vertical-align: top;\n",
              "    }\n",
              "\n",
              "    .dataframe thead th {\n",
              "        text-align: right;\n",
              "    }\n",
              "</style>\n",
              "<table border=\"1\" class=\"dataframe\">\n",
              "  <thead>\n",
              "    <tr style=\"text-align: right;\">\n",
              "      <th></th>\n",
              "      <th>count</th>\n",
              "    </tr>\n",
              "  </thead>\n",
              "  <tbody>\n",
              "    <tr>\n",
              "      <th>object</th>\n",
              "      <td>17</td>\n",
              "    </tr>\n",
              "    <tr>\n",
              "      <th>int64</th>\n",
              "      <td>2</td>\n",
              "    </tr>\n",
              "    <tr>\n",
              "      <th>float64</th>\n",
              "      <td>1</td>\n",
              "    </tr>\n",
              "  </tbody>\n",
              "</table>\n",
              "</div><br><label><b>dtype:</b> int64</label>"
            ]
          },
          "metadata": {}
        },
        {
          "output_type": "stream",
          "name": "stdout",
          "text": [
            "\n",
            "📊 Balance de clases (variable objetivo):\n"
          ]
        },
        {
          "output_type": "display_data",
          "data": {
            "text/plain": [
              "churn\n",
              "No     0.711986\n",
              "Yes    0.257190\n",
              "       0.030824\n",
              "Name: proportion, dtype: float64"
            ],
            "text/html": [
              "<div>\n",
              "<style scoped>\n",
              "    .dataframe tbody tr th:only-of-type {\n",
              "        vertical-align: middle;\n",
              "    }\n",
              "\n",
              "    .dataframe tbody tr th {\n",
              "        vertical-align: top;\n",
              "    }\n",
              "\n",
              "    .dataframe thead th {\n",
              "        text-align: right;\n",
              "    }\n",
              "</style>\n",
              "<table border=\"1\" class=\"dataframe\">\n",
              "  <thead>\n",
              "    <tr style=\"text-align: right;\">\n",
              "      <th></th>\n",
              "      <th>proportion</th>\n",
              "    </tr>\n",
              "    <tr>\n",
              "      <th>churn</th>\n",
              "      <th></th>\n",
              "    </tr>\n",
              "  </thead>\n",
              "  <tbody>\n",
              "    <tr>\n",
              "      <th>No</th>\n",
              "      <td>0.711986</td>\n",
              "    </tr>\n",
              "    <tr>\n",
              "      <th>Yes</th>\n",
              "      <td>0.257190</td>\n",
              "    </tr>\n",
              "    <tr>\n",
              "      <th></th>\n",
              "      <td>0.030824</td>\n",
              "    </tr>\n",
              "  </tbody>\n",
              "</table>\n",
              "</div><br><label><b>dtype:</b> float64</label>"
            ]
          },
          "metadata": {}
        }
      ]
    }
  ]
}